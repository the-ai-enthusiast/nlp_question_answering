{
 "cells": [
  {
   "cell_type": "markdown",
   "metadata": {},
   "source": [
    "# Lecture 4 - Using Embedding Models with Vector Databases"
   ]
  },
  {
   "cell_type": "code",
   "execution_count": 4,
   "metadata": {},
   "outputs": [],
   "source": [
    "# import novel_pages\n",
    "import chromadb\n",
    "import os\n",
    "\n"
   ]
  },
  {
   "cell_type": "code",
   "execution_count": 5,
   "metadata": {},
   "outputs": [],
   "source": [
    "\n",
    "########################################################################\n",
    "# Step 1. Extract the text from the PDF file - get each page of Lord of the Rings\n",
    "########################################################################\n",
    "document_dictionary = { \n",
    "                    1 : \"\"\"The United States of America, often referred to as the USA, is a diverse nation with a rich history and a population of over 330 million people. Founded on July 4, 1776, with the signing of the Declaration of Independence, the USA emerged as a nation built on principles of democracy, liberty, and opportunity. Over the centuries, the country has experienced significant growth, welcoming immigrants from all corners of the globe and becoming a melting pot of cultures. Today, the USA remains a global superpower, known for its economic strength, technological innovation, and cultural influence. \"\"\",\n",
    "                    2 : \"\"\"Russia, the largest country in the world by land area, boasts a population of approximately 145 million people. Its history traces back to the medieval state of Kievan Rus', with the modern Russian state emerging in the late 17th century. With its foundation formally established in 1721, Russia has played a pivotal role in global politics, particularly during the era of the Russian Empire and the Soviet Union. Despite facing challenges, including political upheavals and economic transitions, Russia maintains its status as a major player on the world stage, with vast natural resources and a rich cultural heritage. \"\"\",\n",
    "                    3 : \"\"\"China, the most populous country in the world, is home to over 1.4 billion people. With a history spanning thousands of years, China's civilization is one of the oldest in the world. The founding of the People's Republic of China on October 1, 1949, marked a significant turning point in its modern history, as the country underwent rapid industrialization and economic reforms. Today, China stands as a global economic powerhouse, boasting the world's second-largest economy and exerting considerable influence in international affairs. With its ancient traditions juxtaposed against modern advancements, China continues to shape the course of the 21st century. \"\"\"\n",
    "                   } \n",
    "\n",
    "\n"
   ]
  },
  {
   "cell_type": "code",
   "execution_count": 6,
   "metadata": {},
   "outputs": [
    {
     "name": "stderr",
     "output_type": "stream",
     "text": [
      "C:\\Users\\babaa\\.cache\\chroma\\onnx_models\\all-MiniLM-L6-v2\\onnx.tar.gz: 100%|███████████████████████████████████████| 79.3M/79.3M [00:52<00:00, 1.58MiB/s]\n"
     ]
    }
   ],
   "source": [
    "########################################################################\n",
    "# Step 2 + 3. Split the text into pages and then make an embedding of each page USING an embedding model. Store this in the vector database\n",
    "########################################################################\n",
    "client = chromadb.Client() # internally, it is using: all-MiniLM-L6-v2\n",
    "\n",
    "collection_name = 'random_book_pages'\n",
    "\n",
    "client.create_collection(name=collection_name)\n",
    "\n",
    "## get the collection\n",
    "collection = client.get_or_create_collection(name = collection_name)\n",
    "\n",
    "## store text into the database - behind the scenes it will automtically create embeddings from the text\n",
    "collection.add(\n",
    "    documents = [x for x in list(document_dictionary.values())],\n",
    "    metadatas = [{\"source\": \"book\"} for x in document_dictionary],\n",
    "    ids = [str(x) for x in document_dictionary]\n",
    ")\n",
    "\n"
   ]
  },
  {
   "cell_type": "code",
   "execution_count": 7,
   "metadata": {},
   "outputs": [
    {
     "data": {
      "text/plain": [
       "{'ids': [['2', '3']],\n",
       " 'distances': [[0.9670072793960571, 1.3053419589996338]],\n",
       " 'metadatas': [[{'source': 'book'}, {'source': 'book'}]],\n",
       " 'embeddings': None,\n",
       " 'documents': [[\"Russia, the largest country in the world by land area, boasts a population of approximately 145 million people. Its history traces back to the medieval state of Kievan Rus', with the modern Russian state emerging in the late 17th century. With its foundation formally established in 1721, Russia has played a pivotal role in global politics, particularly during the era of the Russian Empire and the Soviet Union. Despite facing challenges, including political upheavals and economic transitions, Russia maintains its status as a major player on the world stage, with vast natural resources and a rich cultural heritage. \",\n",
       "   \"China, the most populous country in the world, is home to over 1.4 billion people. With a history spanning thousands of years, China's civilization is one of the oldest in the world. The founding of the People's Republic of China on October 1, 1949, marked a significant turning point in its modern history, as the country underwent rapid industrialization and economic reforms. Today, China stands as a global economic powerhouse, boasting the world's second-largest economy and exerting considerable influence in international affairs. With its ancient traditions juxtaposed against modern advancements, China continues to shape the course of the 21st century. \"]],\n",
       " 'uris': None,\n",
       " 'data': None}"
      ]
     },
     "execution_count": 7,
     "metadata": {},
     "output_type": "execute_result"
    }
   ],
   "source": [
    "########################################################################\n",
    "# Step 4. + 5. Have a Question you Ask - find the most similar document/page from the Novel -> Chroma handles this for us -> \n",
    "### using the embedding function that we already have\n",
    "########################################################################\n",
    "question = \"What is the largest country by population and by land area?\"\n",
    "\n",
    "results = collection.query(\n",
    "    query_texts=[question],\n",
    "    n_results=2\n",
    ")\n",
    "\n",
    "\n",
    "results"
   ]
  },
  {
   "cell_type": "code",
   "execution_count": 11,
   "metadata": {},
   "outputs": [
    {
     "name": "stdout",
     "output_type": "stream",
     "text": [
      "<class 'list'>\n"
     ]
    },
    {
     "data": {
      "text/plain": [
       "\"Russia, the largest country in the world by land area, boasts a population of approximately 145 million people. Its history traces back to the medieval state of Kievan Rus', with the modern Russian state emerging in the late 17th century. With its foundation formally established in 1721, Russia has played a pivotal role in global politics, particularly during the era of the Russian Empire and the Soviet Union. Despite facing challenges, including political upheavals and economic transitions, Russia maintains its status as a major player on the world stage, with vast natural resources and a rich cultural heritage. \""
      ]
     },
     "execution_count": 11,
     "metadata": {},
     "output_type": "execute_result"
    }
   ],
   "source": [
    "\n",
    "print(type(results['documents']))\n",
    "results['documents'][0][0] # document 1\n",
    "results['documents'][0][1] # document 2"
   ]
  },
  {
   "cell_type": "markdown",
   "metadata": {},
   "source": [
    "# Creating a collection with different Embedding Function"
   ]
  },
  {
   "cell_type": "code",
   "execution_count": null,
   "metadata": {},
   "outputs": [],
   "source": [
    "# https://docs.trychroma.com/usage-guide \n",
    "# we can use any sentence transformer model: https://docs.trychroma.com/embeddings \n",
    "# https://www.sbert.net/docs/pretrained_models.html\n",
    "from chromadb.utils import embedding_functions\n",
    "embedding_model_name = 'all-mpnet-base-v2'\n",
    "emb_fn = embedding_functions.SentenceTransformerEmbeddingFunction(model_name=embedding_model_name)\n",
    "\n",
    "new_collection = client.create_collection(name=\"another_collection\", embedding_function=emb_fn)\n",
    "\n",
    "\n",
    "new_collection.add(\n",
    "    documents = [\"Here is some sample text\"],\n",
    "    metadatas = [{\"source\": \"typed_text\"}],\n",
    "    ids = ['1']\n",
    ")\n",
    "\n",
    "\n",
    "\n"
   ]
  }
 ],
 "metadata": {
  "kernelspec": {
   "display_name": "Python 3 (ipykernel)",
   "language": "python",
   "name": "python3"
  },
  "language_info": {
   "codemirror_mode": {
    "name": "ipython",
    "version": 3
   },
   "file_extension": ".py",
   "mimetype": "text/x-python",
   "name": "python",
   "nbconvert_exporter": "python",
   "pygments_lexer": "ipython3",
   "version": "3.10.11"
  }
 },
 "nbformat": 4,
 "nbformat_minor": 4
}
