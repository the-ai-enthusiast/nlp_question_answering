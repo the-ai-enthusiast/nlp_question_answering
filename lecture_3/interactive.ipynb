{
 "cells": [
  {
   "cell_type": "markdown",
   "metadata": {},
   "source": [
    "# Lecture 2 - Open Generative QA (AKA Abstractive QA)"
   ]
  },
  {
   "cell_type": "code",
   "execution_count": 2,
   "metadata": {},
   "outputs": [
    {
     "name": "stderr",
     "output_type": "stream",
     "text": [
      "c:\\Users\\babaa\\Documents\\Coding\\myenv\\lib\\site-packages\\tqdm\\auto.py:21: TqdmWarning: IProgress not found. Please update jupyter and ipywidgets. See https://ipywidgets.readthedocs.io/en/stable/user_install.html\n",
      "  from .autonotebook import tqdm as notebook_tqdm\n"
     ]
    }
   ],
   "source": [
    "## import libraries\n",
    "import datasets\n",
    "from transformers import pipeline\n"
   ]
  },
  {
   "cell_type": "markdown",
   "metadata": {},
   "source": [
    "## Downlaod the dataset"
   ]
  },
  {
   "cell_type": "code",
   "execution_count": 3,
   "metadata": {},
   "outputs": [
    {
     "name": "stderr",
     "output_type": "stream",
     "text": [
      "Downloading readme: 100%|██████████| 7.83k/7.83k [00:00<00:00, 7.81MB/s]\n",
      "Downloading data: 100%|██████████| 14.5M/14.5M [00:03<00:00, 4.27MB/s]\n",
      "Downloading data: 100%|██████████| 1.82M/1.82M [00:00<00:00, 2.52MB/s]\n",
      "Generating train split: 100%|██████████| 87599/87599 [00:00<00:00, 706506.98 examples/s]\n",
      "Generating validation split: 100%|██████████| 10570/10570 [00:00<00:00, 707337.51 examples/s]\n"
     ]
    }
   ],
   "source": [
    "## download the dataset\n",
    "qa = datasets.load_dataset('squad', split='validation')\n",
    "contexts  = [x['context'] for x  in qa]\n"
   ]
  },
  {
   "cell_type": "markdown",
   "metadata": {},
   "source": [
    "## Instantiate the Model"
   ]
  },
  {
   "cell_type": "code",
   "execution_count": 6,
   "metadata": {},
   "outputs": [],
   "source": [
    "\n",
    "model_name = 'yjernite/bart_eli5'\n",
    "seq2seq = pipeline('text2text-generation', model=model_name, tokenizer=model_name) # 1.63 GB model\n"
   ]
  },
  {
   "cell_type": "code",
   "execution_count": null,
   "metadata": {},
   "outputs": [],
   "source": [
    "seq2seq.model"
   ]
  },
  {
   "cell_type": "markdown",
   "metadata": {},
   "source": [
    "## Example 1 - Answer is supposed to be short/concise"
   ]
  },
  {
   "cell_type": "code",
   "execution_count": 20,
   "metadata": {},
   "outputs": [],
   "source": [
    "# context = contexts[0]\n",
    "\n",
    "context = \"\"\" Super Bowl 50 was an American football game to determine the champion of the National Football League (NFL)\n",
    "for the 2015 season. The American Football Conference (AFC) champion Denver Broncos defeated the National\n",
    "Football Conference (NFC) champion Carolina Panthers 24–10 to earn their third Super Bowl title. \n",
    "The game was played on February 7, 2016, at Levi\\'s Stadium in the San Francisco Bay Area at Santa Clara, California.\n",
    "As this was the 50th Super Bowl, the league emphasized the \"golden anniversary\" with various gold-themed initiatives, \n",
    "as well as temporarily suspending the tradition of naming each Super Bowl game with Roman numerals \n",
    "(under which the game would have been known as \"Super Bowl L\"), \n",
    "so that the logo could prominently feature the Arabic numerals 50.\n",
    "\"\"\""
   ]
  },
  {
   "cell_type": "code",
   "execution_count": 24,
   "metadata": {},
   "outputs": [
    {
     "name": "stdout",
     "output_type": "stream",
     "text": [
      " Super Bowl 50 was an American football game to determine the champion of the National Football League (NFL)\n",
      "for the 2015 season. The American Football Conference (AFC) champion Denver Broncos defeated the National\n",
      "Football Conference (NFC) champion Carolina Panthers 24–10 to earn their third Super Bowl title. \n",
      "The game was played on February 7, 2016, at Levi's Stadium in the San Francisco Bay Area at Santa Clara, California.\n",
      "As this was the 50th Super Bowl, the league emphasized the \"golden anniversary\" with various gold-themed initiatives, \n",
      "as well as temporarily suspending the tradition of naming each Super Bowl game with Roman numerals \n",
      "(under which the game would have been known as \"Super Bowl L\"), \n",
      "so that the logo could prominently feature the Arabic numerals 50.\n",
      "\n",
      "--------------\n",
      "[{'generated_text': ' Which football team won the Super Bowl in Super Bowl 2015? Super Bowl 50 is an American football game to determine the champion of the National Football League (NFL) for the 2015 season. The American Football Conference (AFC) champion Denver Broncos defeated the National Football Conference (NFC) champion Carolina Panthers Panthers 10'}]\n"
     ]
    }
   ],
   "source": [
    "query = \"Which football team represented the AFC at Super Bowl 50?\"\n",
    "query = \"Which football team won the Super Bowl in Super Bowl 2015?\"\n",
    "\n",
    "answer = seq2seq(\n",
    "    f\"question: {query} context: {context}\",\n",
    "    num_beams=4,\n",
    "    do_sample=True,\n",
    "    temperature=1.1,\n",
    "    max_length=64\n",
    ")\n",
    "\n",
    "print(context)\n",
    "print('--------------')\n",
    "print(answer)"
   ]
  },
  {
   "cell_type": "markdown",
   "metadata": {},
   "source": [
    "## Example 2 - Answer is supposed to be longer "
   ]
  },
  {
   "cell_type": "code",
   "execution_count": 26,
   "metadata": {},
   "outputs": [
    {
     "name": "stdout",
     "output_type": "stream",
     "text": [
      " Super Bowl 50 was an American football game to determine the champion of the National Football League (NFL)\n",
      "for the 2015 season. The American Football Conference (AFC) champion Denver Broncos defeated the National\n",
      "Football Conference (NFC) champion Carolina Panthers 24–10 to earn their third Super Bowl title. \n",
      "The game was played on February 7, 2016, at Levi's Stadium in the San Francisco Bay Area at Santa Clara, California.\n",
      "As this was the 50th Super Bowl, the league emphasized the \"golden anniversary\" with various gold-themed initiatives, \n",
      "as well as temporarily suspending the tradition of naming each Super Bowl game with Roman numerals \n",
      "(under which the game would have been known as \"Super Bowl L\"), \n",
      "so that the logo could prominently feature the Arabic numerals 50.\n",
      "\n",
      "--------------\n",
      "[{'generated_text': ' Super Bowl L was a bigger deal. The NFL has been trying to get rid of the \"Super Bowl L\" in their logo for a long time. The NFL didn\\'t want Super Bowl L to become synonymous with \"Super Bowl 50\" or \"Super Bowl 50\" or \"Super Bowl 50\" or \"'}]\n"
     ]
    }
   ],
   "source": [
    "\n",
    "query = \"Why did they remove the roman numerals in Super Bowl L?\"\n",
    "\n",
    "answer = seq2seq(\n",
    "    f\"question: {query} context: {context}\",\n",
    "    num_beams=4,\n",
    "    do_sample=True,\n",
    "    temperature=1.5,\n",
    "    max_length=64\n",
    ")\n",
    "\n",
    "\n",
    "\n",
    "print(context)\n",
    "print('--------------')\n",
    "print(answer)"
   ]
  },
  {
   "cell_type": "markdown",
   "metadata": {},
   "source": []
  }
 ],
 "metadata": {
  "kernelspec": {
   "display_name": "myenv",
   "language": "python",
   "name": "python3"
  },
  "language_info": {
   "codemirror_mode": {
    "name": "ipython",
    "version": 3
   },
   "file_extension": ".py",
   "mimetype": "text/x-python",
   "name": "python",
   "nbconvert_exporter": "python",
   "pygments_lexer": "ipython3",
   "version": "3.10.11"
  }
 },
 "nbformat": 4,
 "nbformat_minor": 2
}
